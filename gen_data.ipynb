{
 "cells": [
  {
   "cell_type": "code",
   "execution_count": 1,
   "metadata": {},
   "outputs": [],
   "source": [
    "from pathlib import Path\n",
    "\n",
    "import numpy as np\n",
    "import pandas as pd\n",
    "from matplotlib import pyplot as plt\n",
    "\n",
    "from PIL import ImageDraw, Image\n",
    "from shapely.geometry import Polygon, MultiPoint\n",
    "\n",
    "from model.utils.targets import DBNetTargets\n",
    "from model.utils.chem import MolSVG\n",
    "\n",
    "from multiprocessing import Pool\n",
    "\n",
    "import cv2"
   ]
  },
  {
   "cell_type": "code",
   "execution_count": 2,
   "metadata": {},
   "outputs": [],
   "source": [
    "def get_img_size(smi):\n",
    "    try:\n",
    "        _svg = MolSVG(smi, precision=1)\n",
    "        return _svg.image_size\n",
    "    except:\n",
    "        print(smi)\n",
    "        return (0, 0)\n",
    "        \n",
    "def get_mol_weight(smi):\n",
    "    try:\n",
    "        _mol = Chem.MolFromSmiles(smi)\n",
    "        return Descriptors.MolWt(_mol)\n",
    "    except:\n",
    "        print(smi)\n",
    "        return 0\n",
    "\n",
    "def chk_ion_molecules(smi):\n",
    "    if '.' in smi:\n",
    "        return 1\n",
    "    return 0\n",
    "\n",
    "def rewrite_id(x):\n",
    "    _length = len(x)\n",
    "    _numbers = int(x[6:])\n",
    "    return f\"CHEMBL{_numbers:07d}\"\n",
    "\n",
    "def save_image(idx):\n",
    "    _id = df.iloc[idx, 0]\n",
    "    _smi = df.iloc[idx, 1]\n",
    "    _dir = f\"{HOME_DIR}/{_id[6]}/{_id[7]}/{_id[8]}/{_id[9]}/{_id[10]}\"\n",
    "    if not Path(f\"{_dir}/{_id}.thr_mask.png\").exists():\n",
    "        Path(_dir).absolute().mkdir(parents=True, exist_ok=True)\n",
    "        mol_svg = MolSVG(_smi)\n",
    "        x = mol_svg.image\n",
    "        y = targets.generate_targets(mol_svg)\n",
    "        pil_image = Image.fromarray(x)\n",
    "        pil_image.save(f\"{_dir}/{_id}.png\")\n",
    "        pil_img_shr = Image.fromarray(y['gt_shr'])\n",
    "        pil_img_shr.save(f\"{_dir}/{_id}.shr.png\")\n",
    "        pil_img_shr_mask = Image.fromarray(y['gt_shr_mask'])\n",
    "        pil_img_shr_mask.save(f\"{_dir}/{_id}.shr_mask.png\")\n",
    "        pil_img_thr = Image.fromarray(y['gt_thr'])\n",
    "        pil_img_thr.save(f\"{_dir}/{_id}.thr.png\")\n",
    "        pil_img_thr_mask = Image.fromarray(y['gt_thr_mask'])\n",
    "        pil_img_thr_mask.save(f\"{_dir}/{_id}.thr_mask.png\")\n",
    "    # try:\n",
    "    # except:\n",
    "    #     print(idx)"
   ]
  },
  {
   "cell_type": "code",
   "execution_count": null,
   "metadata": {},
   "outputs": [],
   "source": [
    "df = pd.read_csv('~/Data/chembl_30_chemreps_eval.csv')\n",
    "\n",
    "targets = DBNetTargets(shrink_ratio=0.5)\n",
    "\n",
    "idx = 54\n",
    "# _id = 'test'\n",
    "_smi = df.iloc[idx, 1]\n",
    "# _smi = 'CN(C)CCOc1cc(NC(=O)Nc2cccc([N+](=O)[O-])c2)ccc1I'\n",
    "# _smi = 'O=C(OCc1ccccc1)c1sc2c([N+](=O)[O-])c(O)c(O)cc2c1Cl'\n",
    "_dir = '.'\n",
    "# Path(_dir).absolute().mkdir(parents=True, exist_ok=True)\n",
    "mol_svg = MolSVG(_smi)\n",
    "x = mol_svg.image\n",
    "y = targets.generate_targets(mol_svg)\n",
    "# pil_image = Image.fromarray(x)\n",
    "# pil_image.save(f\"{_dir}/{_id}.png\")\n",
    "# pil_img_shr = Image.fromarray(y['gt_shr'])\n",
    "# pil_img_shr.save(f\"{_dir}/{_id}.shr.png\")\n",
    "# pil_img_shr_mask = Image.fromarray(y['gt_shr_mask'])\n",
    "# pil_img_shr_mask.save(f\"{_dir}/{_id}.shr_mask.png\")\n",
    "# # y['gt_thr'] *= 255\n",
    "# pil_img_thr = Image.fromarray(y['gt_thr'])\n",
    "# pil_img_thr.save(f\"{_dir}/{_id}.thr.png\")\n",
    "# pil_img_thr_mask = Image.fromarray(y['gt_thr_mask'])\n",
    "# pil_img_thr_mask.save(f\"{_dir}/{_id}.thr_mask.png\")\n",
    "\n",
    "# plt.imshow(y['gt_shr'])\n",
    "fig, ax = plt.subplots(1, 4, figsize=(21, 6))\n",
    "ax[0].imshow(y['gt_shr'])\n",
    "ax[1].imshow(y['gt_shr_mask'])\n",
    "ax[2].imshow(y['gt_thr'])\n",
    "ax[3].imshow(y['gt_thr_mask'])"
   ]
  },
  {
   "cell_type": "code",
   "execution_count": 3,
   "metadata": {},
   "outputs": [],
   "source": [
    "# df = pd.read_csv('~/Data/chembl_30_chemreps_mw600nonion.csv')\n",
    "\n",
    "train = pd.read_csv('~/Data/chembl_30_chemreps_train.w.csv')\n",
    "eval = pd.read_csv('~/Data/chembl_30_chemreps_eval.csv')\n",
    "test = pd.read_csv('~/Data/chembl_30_chemreps_test.csv')\n",
    "\n",
    "df = pd.concat([train, eval, test])"
   ]
  },
  {
   "cell_type": "code",
   "execution_count": 4,
   "metadata": {},
   "outputs": [],
   "source": [
    "HOME_DIR = ''\n",
    "\n",
    "targets = DBNetTargets(shrink_ratio=0.5)\n",
    "_index = [_ for _ in range(len(df))]\n",
    "\n",
    "with Pool(16) as pool:\n",
    "    pool.map(save_image, _index, chunksize=8)\n",
    "\n",
    "# for i in _index:\n",
    "#     save_image(i)"
   ]
  },
  {
   "cell_type": "code",
   "execution_count": null,
   "metadata": {},
   "outputs": [],
   "source": [
    "idx = 0 \n",
    "_id = df.iloc[idx, 0]\n",
    "_smi = df.iloc[idx, 1]\n",
    "mol_svg = MolSVG(_smi)\n",
    "x = mol_svg.image\n",
    "y = targets.generate_targets(mol_svg)"
   ]
  },
  {
   "cell_type": "code",
   "execution_count": null,
   "metadata": {},
   "outputs": [],
   "source": [
    "idx = 0\n",
    "id = df.iloc[idx, 0]\n",
    "image, mask = load_image(idx)"
   ]
  },
  {
   "cell_type": "code",
   "execution_count": null,
   "metadata": {},
   "outputs": [],
   "source": [
    "char_pos = get_char_pos(mask)"
   ]
  },
  {
   "cell_type": "code",
   "execution_count": null,
   "metadata": {},
   "outputs": [],
   "source": [
    "_max, _min = char_pos[0]\n",
    "_image = image[_min[1]:_max[1], _min[0]:_max[0]]\n",
    "\n",
    "plt.imshow(_image)"
   ]
  },
  {
   "cell_type": "code",
   "execution_count": null,
   "metadata": {},
   "outputs": [],
   "source": []
  },
  {
   "cell_type": "code",
   "execution_count": null,
   "metadata": {},
   "outputs": [],
   "source": []
  }
 ],
 "metadata": {
  "kernelspec": {
   "display_name": "Python 3.10.5 ('rdkit310')",
   "language": "python",
   "name": "python3"
  },
  "language_info": {
   "codemirror_mode": {
    "name": "ipython",
    "version": 3
   },
   "file_extension": ".py",
   "mimetype": "text/x-python",
   "name": "python",
   "nbconvert_exporter": "python",
   "pygments_lexer": "ipython3",
   "version": "3.10.5"
  },
  "orig_nbformat": 4,
  "vscode": {
   "interpreter": {
    "hash": "245b9d6615daa1a3827d07c8eb27e2623b2ed10fac89f2a0a36a803424ad4263"
   }
  }
 },
 "nbformat": 4,
 "nbformat_minor": 2
}
