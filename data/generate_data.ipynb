{
 "cells": [
  {
   "cell_type": "code",
   "execution_count": null,
   "metadata": {},
   "outputs": [],
   "source": [
    "\n",
    "import numpy as np\n",
    "import pandas as pd\n",
    "from matplotlib import pyplot as plt\n",
    "\n",
    "from shapely.geometry import Polygon, MultiPoint\n",
    "import cv2"
   ]
  },
  {
   "cell_type": "markdown",
   "metadata": {},
   "source": [
    "### Prepare data from ChEMBL raw source"
   ]
  },
  {
   "cell_type": "code",
   "execution_count": null,
   "metadata": {},
   "outputs": [],
   "source": [
    "import pandas as pd\n",
    "\n",
    "# ChEMBL 31 (https://chembl.gitbook.io/chembl-interface-documentation/downloads)\n",
    "df = pd.read_csv('chembl_31_chemreps.txt', sep='\\t')\n",
    "df.head()"
   ]
  },
  {
   "cell_type": "code",
   "execution_count": null,
   "metadata": {},
   "outputs": [],
   "source": [
    "# inchi type raise missing structures.\n",
    "df = df.drop(columns=['standard_inchi', 'standard_inchi_key'])"
   ]
  },
  {
   "cell_type": "code",
   "execution_count": null,
   "metadata": {},
   "outputs": [],
   "source": [
    "from rdkit import Chem\n",
    "from rdkit.Chem import Descriptors\n",
    "\n",
    "def get_molecular_weight(smi):\n",
    "    try:\n",
    "        _mol = Chem.MolFromSmiles(smi)\n",
    "        return Descriptors.MolWt(_mol)\n",
    "    except:\n",
    "        print(smi)\n",
    "        return 0\n",
    "\n",
    "def check_ion(smi):\n",
    "    if '.' in smi:\n",
    "        return 1\n",
    "    return 0\n",
    "\n",
    "def rewrite_chembl_id(x):\n",
    "    # _length = len(x)\n",
    "    _numbers = int(x[6:])\n",
    "    return f\"CHEMBL{_numbers:07d}\""
   ]
  },
  {
   "cell_type": "code",
   "execution_count": null,
   "metadata": {},
   "outputs": [],
   "source": [
    "df = df.sample(frac=0.1)\n",
    "df['has_ion'] = df['canonical_smiles'].apply(check_ion)\n",
    "df = df.loc[df['has_ion'] == 0]\n",
    "df['mol_weight'] = df['canonical_smiles'].apply(get_molecular_weight)\n",
    "df = df.loc[(df['mol_weight'] < 600) & (df['mol_weight'] > 10)]\n",
    "df['chembl_id'] = df['chembl_id'].apply(rewrite_chembl_id)"
   ]
  },
  {
   "cell_type": "code",
   "execution_count": null,
   "metadata": {},
   "outputs": [],
   "source": [
    "df.to_csv('chembl_31_smiles_sample.csv', index=False)"
   ]
  },
  {
   "cell_type": "code",
   "execution_count": null,
   "metadata": {},
   "outputs": [],
   "source": [
    "df.head()"
   ]
  },
  {
   "cell_type": "markdown",
   "metadata": {},
   "source": [
    "### Prepare data from `chembl_31_smiles_sample.csv`"
   ]
  },
  {
   "cell_type": "code",
   "execution_count": null,
   "metadata": {},
   "outputs": [],
   "source": [
    "import pandas as pd\n",
    "\n",
    "df = pd.read_csv('chembl_31_smiles_sample.csv')\n",
    "df.head()"
   ]
  },
  {
   "cell_type": "code",
   "execution_count": null,
   "metadata": {},
   "outputs": [],
   "source": [
    "# df_train = df.sample(frac=0.2)\n",
    "df_train = df.loc[df['has_wedge'] == 1].sample(frac=0.5)\n",
    "df_val = df.loc[~df.index.isin(df_train.index)].sample(frac=0.01)\n",
    "df_test = df.loc[(~df.index.isin(df_train.index)) & (~df.index.isin(df_val.index))].sample(frac=0.02)"
   ]
  },
  {
   "cell_type": "code",
   "execution_count": null,
   "metadata": {},
   "outputs": [],
   "source": [
    "df_train.to_csv('chembl_31_smiles_train.csv', index=False)\n",
    "df_val.to_csv('chembl_31_smiles_val.csv', index=False)\n",
    "df_test.to_csv('chembl_31_smiles_test.csv', index=False)"
   ]
  },
  {
   "cell_type": "markdown",
   "metadata": {},
   "source": [
    "### Prepare data from predefined data of this repo"
   ]
  },
  {
   "cell_type": "code",
   "execution_count": 1,
   "metadata": {},
   "outputs": [],
   "source": [
    "import pandas as pd\n",
    "\n",
    "from targets import DBNetTargets\n",
    "from chem import MolSVG\n",
    "\n",
    "targets = DBNetTargets(shrink_ratio=0.5)"
   ]
  },
  {
   "cell_type": "code",
   "execution_count": null,
   "metadata": {},
   "outputs": [],
   "source": [
    "!tar xzf chembl_31_smiles_learning_data.csv.tar.gz"
   ]
  },
  {
   "cell_type": "code",
   "execution_count": 2,
   "metadata": {},
   "outputs": [],
   "source": [
    "train = pd.read_csv('chembl_31_smiles_train.csv')\n",
    "eval = pd.read_csv('chembl_31_smiles_val.csv')\n",
    "test = pd.read_csv('chembl_31_smiles_test.csv')\n",
    "\n",
    "df = pd.concat([train, eval, test])"
   ]
  },
  {
   "cell_type": "code",
   "execution_count": 3,
   "metadata": {},
   "outputs": [],
   "source": [
    "from pathlib import Path\n",
    "from PIL import Image\n",
    "\n",
    "def save_image(idx):\n",
    "    _id = df.iloc[idx, 0]\n",
    "    _smi = df.iloc[idx, 1]\n",
    "    _dir = f\"{HOME_DIR}/{_id[6]}/{_id[7]}/{_id[8]}/{_id[9]}/{_id[10]}\"\n",
    "    if not Path(f\"{_dir}/{_id}.thr_mask.png\").exists():\n",
    "        Path(_dir).absolute().mkdir(parents=True, exist_ok=True)\n",
    "        # mol_svg = MolSVG(_smi, gray=True)  # 0\n",
    "        # mol_svg = MolSVG(_smi, gray=True, bondLineWidth=1, multipleBondOffset=0.1, scalingFactor=18, fixedFontSize=13)  # 1\n",
    "        mol_svg = MolSVG(_smi, gray=False, multipleBondOffset=0.16, scalingFactor=20, fixedFontSize=10) # 2\n",
    "        x = mol_svg.image\n",
    "        try:\n",
    "            y = targets.generate_targets(mol_svg)\n",
    "            pil_image = Image.fromarray(x)\n",
    "            pil_image.save(f\"{_dir}/{_id}.png\")\n",
    "            pil_img_shr = Image.fromarray(y['gt_shr'])\n",
    "            pil_img_shr.save(f\"{_dir}/{_id}.shr.png\")\n",
    "            pil_img_shr_mask = Image.fromarray(y['gt_shr_mask'])\n",
    "            pil_img_shr_mask.save(f\"{_dir}/{_id}.shr_mask.png\")\n",
    "            pil_img_thr = Image.fromarray(y['gt_thr'])\n",
    "            pil_img_thr.save(f\"{_dir}/{_id}.thr.png\")\n",
    "            pil_img_thr_mask = Image.fromarray(y['gt_thr_mask'])\n",
    "            pil_img_thr_mask.save(f\"{_dir}/{_id}.thr_mask.png\")\n",
    "        except ValueError:\n",
    "            print(_smi)"
   ]
  },
  {
   "cell_type": "code",
   "execution_count": null,
   "metadata": {},
   "outputs": [],
   "source": [
    "from matplotlib import pyplot as plt\n",
    "\n",
    "# _smi = 'CN(C)CCOc1cc(NC(=O)Nc2cccc([N+](=O)[O-])c2)ccc1I'\n",
    "_smi = 'O=C(OCc1ccccc1)c1sc2c([N+](=O)[O-])c(O)c(O)cc2c1Cl'\n",
    "\n",
    "mol_svg = MolSVG(_smi, gray=False, multipleBondOffset=0.16, scalingFactor=20, fixedFontSize=10)\n",
    "x = mol_svg.image\n",
    "y = targets.generate_targets(mol_svg)\n",
    "\n",
    "fig, ax = plt.subplots(1, 5, figsize=(21, 4), sharex=True, sharey=True)\n",
    "ax[0].imshow(x)\n",
    "ax[0].axis('off')\n",
    "ax[0].set_title('Image')\n",
    "ax[1].imshow(y['gt_shr'])\n",
    "ax[1].axis('off')\n",
    "ax[1].set_title('gt_shr')\n",
    "ax[2].imshow(y['gt_shr_mask'])\n",
    "ax[2].axis('off')\n",
    "ax[2].set_title('gt_shr_mask')\n",
    "ax[3].imshow(y['gt_thr'])\n",
    "ax[3].axis('off')\n",
    "ax[3].set_title('gt_thr')\n",
    "ax[4].imshow(y['gt_thr_mask'])\n",
    "ax[4].axis('off')\n",
    "ax[4].set_title('gt_thr_mask')"
   ]
  },
  {
   "cell_type": "code",
   "execution_count": 4,
   "metadata": {},
   "outputs": [],
   "source": [
    "from multiprocessing import Pool\n",
    "\n",
    "HOME_DIR = '../../Data/ChEMBL/OCR_2'\n",
    "\n",
    "_index = [_ for _ in range(len(df))]\n",
    "\n",
    "with Pool(16) as pool:\n",
    "    pool.map(save_image, _index, chunksize=8)\n",
    "\n",
    "# 5 min; used 16 core of AMD Ryzen 5800X; 22052 smiles to image"
   ]
  },
  {
   "cell_type": "code",
   "execution_count": null,
   "metadata": {},
   "outputs": [],
   "source": [
    "'COc1ccc(CN2C[C@H]3CC[C@H](O)[C@@H]2CN3Cc2ccccc2)cc1'\n",
    "'C=C1[C@H]2C[C@H]2[C@@]2(C)[C@H]1CC1=C(C)C(=O)O[C@]13[C@H]2CC1=C2[C@@H]3/C(=C(\\C)C(=O)OC)C(=O)[C@H](O)[C@@]2(C)[C@@H]2C[C@H]12'"
   ]
  },
  {
   "cell_type": "code",
   "execution_count": null,
   "metadata": {},
   "outputs": [],
   "source": []
  }
 ],
 "metadata": {
  "kernelspec": {
   "display_name": "Python 3.10.5 ('rdkit310')",
   "language": "python",
   "name": "python3"
  },
  "language_info": {
   "codemirror_mode": {
    "name": "ipython",
    "version": 3
   },
   "file_extension": ".py",
   "mimetype": "text/x-python",
   "name": "python",
   "nbconvert_exporter": "python",
   "pygments_lexer": "ipython3",
   "version": "3.10.5"
  },
  "orig_nbformat": 4,
  "vscode": {
   "interpreter": {
    "hash": "245b9d6615daa1a3827d07c8eb27e2623b2ed10fac89f2a0a36a803424ad4263"
   }
  }
 },
 "nbformat": 4,
 "nbformat_minor": 2
}
