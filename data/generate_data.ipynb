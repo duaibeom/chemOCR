{
 "cells": [
  {
   "cell_type": "code",
   "execution_count": null,
   "metadata": {},
   "outputs": [],
   "source": [
    "\n",
    "import numpy as np\n",
    "import pandas as pd\n",
    "from matplotlib import pyplot as plt\n",
    "\n",
    "from shapely.geometry import Polygon, MultiPoint\n",
    "import cv2"
   ]
  },
  {
   "cell_type": "markdown",
   "metadata": {},
   "source": [
    "### Prepare data from ChEMBL raw source"
   ]
  },
  {
   "cell_type": "code",
   "execution_count": null,
   "metadata": {},
   "outputs": [],
   "source": [
    "import pandas as pd\n",
    "\n",
    "# ChEMBL 31 (https://chembl.gitbook.io/chembl-interface-documentation/downloads)\n",
    "df = pd.read_csv('chembl_31_chemreps.txt', sep='\\t')\n",
    "df.head()"
   ]
  },
  {
   "cell_type": "code",
   "execution_count": null,
   "metadata": {},
   "outputs": [],
   "source": [
    "# inchi type raise missing structures.\n",
    "df = df.drop(columns=['standard_inchi', 'standard_inchi_key'])"
   ]
  },
  {
   "cell_type": "code",
   "execution_count": null,
   "metadata": {},
   "outputs": [],
   "source": [
    "from rdkit import Chem\n",
    "from rdkit.Chem import Descriptors\n",
    "\n",
    "def get_molecular_weight(smi):\n",
    "    try:\n",
    "        _mol = Chem.MolFromSmiles(smi)\n",
    "        return Descriptors.MolWt(_mol)\n",
    "    except:\n",
    "        print(smi)\n",
    "        return 0\n",
    "\n",
    "def check_ion(smi):\n",
    "    if '.' in smi:\n",
    "        return 1\n",
    "    return 0\n",
    "\n",
    "def rewrite_chembl_id(x):\n",
    "    # _length = len(x)\n",
    "    _numbers = int(x[6:])\n",
    "    return f\"CHEMBL{_numbers:07d}\""
   ]
  },
  {
   "cell_type": "code",
   "execution_count": null,
   "metadata": {},
   "outputs": [],
   "source": [
    "df = df.sample(frac=0.1)\n",
    "df['has_ion'] = df['canonical_smiles'].apply(check_ion)\n",
    "df = df.loc[df['has_ion'] == 0]\n",
    "df['mol_weight'] = df['canonical_smiles'].apply(get_molecular_weight)\n",
    "df = df.loc[(df['mol_weight'] < 600) & (df['mol_weight'] > 10)]\n",
    "df['chembl_id'] = df['chembl_id'].apply(rewrite_chembl_id)"
   ]
  },
  {
   "cell_type": "code",
   "execution_count": null,
   "metadata": {},
   "outputs": [],
   "source": [
    "df.to_csv('chembl_31_smiles_sample.csv', index=False)"
   ]
  },
  {
   "cell_type": "code",
   "execution_count": null,
   "metadata": {},
   "outputs": [],
   "source": [
    "df.head()"
   ]
  },
  {
   "cell_type": "markdown",
   "metadata": {},
   "source": [
    "### Prepare data from `chembl_31_smiles_sample.csv`"
   ]
  },
  {
   "cell_type": "code",
   "execution_count": null,
   "metadata": {},
   "outputs": [],
   "source": [
    "import pandas as pd\n",
    "\n",
    "df = pd.read_csv('chembl_31_smiles_sample.csv')\n",
    "df.head()"
   ]
  },
  {
   "cell_type": "code",
   "execution_count": null,
   "metadata": {},
   "outputs": [],
   "source": [
    "# df_train = df.sample(frac=0.2)\n",
    "df_train = df.loc[df['has_wedge'] == 1].sample(frac=0.5)\n",
    "df_val = df.loc[~df.index.isin(df_train.index)].sample(frac=0.01)\n",
    "df_test = df.loc[(~df.index.isin(df_train.index)) & (~df.index.isin(df_val.index))].sample(frac=0.02)"
   ]
  },
  {
   "cell_type": "code",
   "execution_count": null,
   "metadata": {},
   "outputs": [],
   "source": [
    "df_train.to_csv('chembl_31_smiles_train.csv', index=False)\n",
    "df_val.to_csv('chembl_31_smiles_val.csv', index=False)\n",
    "df_test.to_csv('chembl_31_smiles_test.csv', index=False)"
   ]
  },
  {
   "cell_type": "markdown",
   "metadata": {},
   "source": [
    "### Prepare data from predefined data of this repo"
   ]
  },
  {
   "cell_type": "code",
   "execution_count": 1,
   "metadata": {},
   "outputs": [],
   "source": [
    "import pandas as pd\n",
    "\n",
    "from targets import DBNetTargets\n",
    "from chem import MolSVG\n",
    "\n",
    "import albumentations as A\n",
    "\n",
    "targets = DBNetTargets(shrink_ratio=0.5, thr_max=0.8)\n",
    "\n",
    "blur = A.GaussianBlur(blur_limit=(5, 5), sigma_limit=(0.6, 0.6), always_apply=True)  # like gradient"
   ]
  },
  {
   "cell_type": "code",
   "execution_count": null,
   "metadata": {},
   "outputs": [],
   "source": [
    "from matplotlib import pyplot as plt\n",
    "\n",
    "# _smi = 'CN(C)CCOc1cc(NC(=O)Nc2cccc([N+](=O)[O-])c2)ccc1I'\n",
    "_smi = 'O=C(OCc1ccccc1)c1sc2c([N+](=O)[O-])c(O)c(O)cc2c1Cl'\n",
    "# _smi = 'c1ccc(CNC[C@@H]2C[C@@]3(c4ccccc4)CCN2C3)cc1'\n",
    "# _smi = 'c1c(C(=O)O)c(OC(=O)C)ccc1'\n",
    "\n",
    "mol_svg = MolSVG(_smi, scalingFactor=24) # 0\n",
    "# mol_svg = MolSVG(_smi, multipleBondOffset=0.16, scalingFactor=24, fixedFontSize=12) # 1\n",
    "# mol_svg = MolSVG(_smi, bondLineWidth=1, multipleBondOffset=0.16, scalingFactor=24, fixedFontSize=16, additionalAtomLabelPadding=0.08, gray=True, comic=True)  # 2\n",
    "# mol_svg = MolSVG(_smi, bondLineWidth=1, multipleBondOffset=0.10, scalingFactor=24, fixedFontSize=13, gray=True)  # 3\n",
    "x = mol_svg.image\n",
    "y = targets.generate_targets(mol_svg)\n",
    "\n",
    "fig, ax = plt.subplots(2, 3, figsize=(15, 6), sharey=True, dpi=150)\n",
    "ax[0, 0].imshow(x)\n",
    "# ax[0, 0].axis('off')\n",
    "ax[0, 0].set_title('Image')\n",
    "ax[0, 1].imshow(y['gt_shr'])\n",
    "ax[0, 1].axis('off')\n",
    "ax[0, 1].set_title('gt_shr')\n",
    "ax[0, 2].imshow(y['gt_shr_mask'])\n",
    "ax[0, 2].axis('off')\n",
    "ax[0, 2].set_title('gt_shr_mask')\n",
    "ax[1, 0].imshow(blur(image=y['gt_thr'])['image'])\n",
    "ax[1, 0].axis('off')\n",
    "ax[1, 0].set_title('gt_thr')\n",
    "ax[1, 1].imshow(y['gt_thr_mask'])\n",
    "ax[1, 1].axis('off')\n",
    "ax[1, 1].set_title('gt_thr_mask')"
   ]
  },
  {
   "cell_type": "code",
   "execution_count": null,
   "metadata": {},
   "outputs": [],
   "source": [
    "!tar xzf chembl_31_smiles_learning_data.csv.tar.gz"
   ]
  },
  {
   "cell_type": "code",
   "execution_count": 2,
   "metadata": {},
   "outputs": [],
   "source": [
    "train = pd.read_csv('chembl_31_smiles_train.csv')\n",
    "eval = pd.read_csv('chembl_31_smiles_val.csv')\n",
    "\n",
    "df = pd.concat([train, eval])"
   ]
  },
  {
   "cell_type": "code",
   "execution_count": 11,
   "metadata": {},
   "outputs": [],
   "source": [
    "from pathlib import Path\n",
    "from PIL import Image\n",
    "\n",
    "def save_image(idx):\n",
    "    _id = df.iloc[idx, 0]\n",
    "    _smi = df.iloc[idx, 1]\n",
    "    _dir = f\"{HOME_DIR}/{_id[6]}/{_id[7]}/{_id[8]}/{_id[9]}/{_id[10]}\"\n",
    "    if not Path(f\"{_dir}/{_id}.thr_mask.png\").exists():\n",
    "        Path(_dir).absolute().mkdir(parents=True, exist_ok=True)\n",
    "\n",
    "        # mol_svg = MolSVG(_smi, scalingFactor=24) # 0\n",
    "        # mol_svg = MolSVG(_smi, multipleBondOffset=0.16, scalingFactor=24, fixedFontSize=12) # 1\n",
    "        # mol_svg = MolSVG(_smi, bondLineWidth=1, multipleBondOffset=0.16, scalingFactor=24, fixedFontSize=16, additionalAtomLabelPadding=0.08, gray=True, comic=True)  # 2\n",
    "        mol_svg = MolSVG(_smi, bondLineWidth=1, multipleBondOffset=0.10, scalingFactor=24, fixedFontSize=13, gray=True)  # 3\n",
    "\n",
    "        # mol_svg = MolSVG(_smi) # 0\n",
    "        # mol_svg = MolSVG(_smi, multipleBondOffset=0.16, scalingFactor=30, fixedFontSize=13) # 1\n",
    "        # mol_svg = MolSVG(_smi, bondLineWidth=1, multipleBondOffset=0.16, fixedFontSize=14, additionalAtomLabelPadding=0.1, gray=True, comic=True)  # 2\n",
    "        # mol_svg = MolSVG(_smi, bondLineWidth=1, multipleBondOffset=0.11, fixedFontSize=13, gray=True)  # 3\n",
    "\n",
    "        x = mol_svg.image\n",
    "        try:\n",
    "            y = targets.generate_targets(mol_svg)\n",
    "            pil_image = Image.fromarray(x)\n",
    "            pil_image.save(f\"{_dir}/{_id}.png\")\n",
    "            pil_img_shr = Image.fromarray(y['gt_shr'])\n",
    "            pil_img_shr.save(f\"{_dir}/{_id}.shr.png\")\n",
    "            pil_img_shr_mask = Image.fromarray(y['gt_shr_mask'])\n",
    "            pil_img_shr_mask.save(f\"{_dir}/{_id}.shr_mask.png\")\n",
    "            pil_img_thr = Image.fromarray(blur(image=y['gt_thr'])['image'])\n",
    "            # pil_img_thr = Image.fromarray(y['gt_thr'])\n",
    "            pil_img_thr.save(f\"{_dir}/{_id}.thr.png\")\n",
    "            pil_img_thr_mask = Image.fromarray(y['gt_thr_mask'])\n",
    "            pil_img_thr_mask.save(f\"{_dir}/{_id}.thr_mask.png\")\n",
    "            return x.shape[:2]\n",
    "        except ValueError:\n",
    "            print(_smi)\n",
    "            return (0, 0)"
   ]
  },
  {
   "cell_type": "code",
   "execution_count": 12,
   "metadata": {},
   "outputs": [],
   "source": [
    "from multiprocessing import Pool\n",
    "\n",
    "HOME_DIR = '../../Data/ChEMBL/OCR_RGB_sep_3'\n",
    "\n",
    "_index = [_ for _ in range(len(df))]\n",
    "\n",
    "with Pool(16) as pool:\n",
    "    shapes = pool.map(save_image, _index, chunksize=8)\n",
    "\n",
    "# 5 min; used 16 core of AMD Ryzen 5800X; 22052 smiles to image"
   ]
  },
  {
   "cell_type": "code",
   "execution_count": 13,
   "metadata": {},
   "outputs": [
    {
     "data": {
      "text/plain": [
       "array([208.19638491, 274.49192281])"
      ]
     },
     "execution_count": 13,
     "metadata": {},
     "output_type": "execute_result"
    }
   ],
   "source": [
    "import numpy as np\n",
    "\n",
    "shapes = np.array(shapes)\n",
    "shapes.mean(axis=0)"
   ]
  },
  {
   "cell_type": "code",
   "execution_count": 14,
   "metadata": {},
   "outputs": [
    {
     "data": {
      "text/plain": [
       "(array([[0., 0., 0., ..., 0., 0., 0.],\n",
       "        [0., 0., 0., ..., 0., 0., 0.],\n",
       "        [1., 1., 0., ..., 0., 0., 0.],\n",
       "        ...,\n",
       "        [0., 0., 0., ..., 0., 0., 0.],\n",
       "        [0., 0., 0., ..., 0., 0., 0.],\n",
       "        [0., 0., 0., ..., 0., 0., 0.]]),\n",
       " array([ 50. ,  67.6,  85.2, 102.8, 120.4, 138. , 155.6, 173.2, 190.8,\n",
       "        208.4, 226. , 243.6, 261.2, 278.8, 296.4, 314. , 331.6, 349.2,\n",
       "        366.8, 384.4, 402. , 419.6, 437.2, 454.8, 472.4, 490. , 507.6,\n",
       "        525.2, 542.8, 560.4, 578. , 595.6, 613.2, 630.8, 648.4, 666. ,\n",
       "        683.6, 701.2, 718.8, 736.4, 754. , 771.6, 789.2, 806.8, 824.4,\n",
       "        842. , 859.6, 877.2, 894.8, 912.4, 930. ]),\n",
       " array([ 21.  ,  32.58,  44.16,  55.74,  67.32,  78.9 ,  90.48, 102.06,\n",
       "        113.64, 125.22, 136.8 , 148.38, 159.96, 171.54, 183.12, 194.7 ,\n",
       "        206.28, 217.86, 229.44, 241.02, 252.6 , 264.18, 275.76, 287.34,\n",
       "        298.92, 310.5 , 322.08, 333.66, 345.24, 356.82, 368.4 , 379.98,\n",
       "        391.56, 403.14, 414.72, 426.3 , 437.88, 449.46, 461.04, 472.62,\n",
       "        484.2 , 495.78, 507.36, 518.94, 530.52, 542.1 , 553.68, 565.26,\n",
       "        576.84, 588.42, 600.  ]),\n",
       " <matplotlib.collections.QuadMesh at 0x7fe828abc460>)"
      ]
     },
     "execution_count": 14,
     "metadata": {},
     "output_type": "execute_result"
    },
    {
     "data": {
      "image/png": "[encoded data removed]",
      "text/plain": [
       "<Figure size 432x288 with 1 Axes>"
      ]
     },
     "metadata": {
      "needs_background": "light"
     },
     "output_type": "display_data"
    }
   ],
   "source": [
    "from matplotlib import pyplot as plt\n",
    "\n",
    "plt.hist2d(shapes[:, 1], shapes[:, 0], bins=50)"
   ]
  },
  {
   "cell_type": "code",
   "execution_count": null,
   "metadata": {},
   "outputs": [],
   "source": []
  }
 ],
 "metadata": {
  "kernelspec": {
   "display_name": "Python 3.10.5 ('rdkit310')",
   "language": "python",
   "name": "python3"
  },
  "language_info": {
   "codemirror_mode": {
    "name": "ipython",
    "version": 3
   },
   "file_extension": ".py",
   "mimetype": "text/x-python",
   "name": "python",
   "nbconvert_exporter": "python",
   "pygments_lexer": "ipython3",
   "version": "3.10.5"
  },
  "orig_nbformat": 4,
  "vscode": {
   "interpreter": {
    "hash": "245b9d6615daa1a3827d07c8eb27e2623b2ed10fac89f2a0a36a803424ad4263"
   }
  }
 },
 "nbformat": 4,
 "nbformat_minor": 2
}
