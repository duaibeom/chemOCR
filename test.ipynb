{
 "cells": [
  {
   "cell_type": "code",
   "execution_count": 1,
   "metadata": {},
   "outputs": [
    {
     "name": "stderr",
     "output_type": "stream",
     "text": [
      "/home/doodleduck/miniconda3/envs/rdkit310/lib/python3.10/site-packages/tqdm/auto.py:22: TqdmWarning: IProgress not found. Please update jupyter and ipywidgets. See https://ipywidgets.readthedocs.io/en/stable/user_install.html\n",
      "  from .autonotebook import tqdm as notebook_tqdm\n"
     ]
    },
    {
     "name": "stdout",
     "output_type": "stream",
     "text": [
      "Finished 'CustomDataset' in 0.0025 secs\n"
     ]
    }
   ],
   "source": [
    "import numpy as np\n",
    "from matplotlib import pyplot as plt\n",
    "from torch.utils.data import DataLoader\n",
    "\n",
    "from model.utils.transfroms import get_train_transform, get_valid_transform, get_test_transform\n",
    "from model.dataset import CustomDataset\n",
    "\n",
    "HOME = ''\n",
    "HOME_DIR = f'../Data/ChEMBL/OCR'\n",
    "DATAFRAME_LIST = dict(train=f'data/chembl_31_smiles_train.csv',\n",
    "                        val=f'data/chembl_31_smiles_val.csv',\n",
    "                        test=f'data/chembl_31_smiles_test.csv')\n",
    "\n",
    "def collate_fn(batch):\n",
    "    return tuple(zip(*batch))\n",
    "\n",
    "ocr_dataset = CustomDataset(\n",
    "        data_df=DATAFRAME_LIST['val'],\n",
    "        # mode='val',\n",
    "        mode='test',\n",
    "        # transforms=get_valid_transform(),\n",
    "        # transforms=get_train_transform(),\n",
    "        transforms=get_test_transform(),\n",
    "        dir_path=HOME_DIR,\n",
    "    )\n"
   ]
  },
  {
   "cell_type": "code",
   "execution_count": null,
   "metadata": {},
   "outputs": [],
   "source": [
    "image, gt_shr, gt_shr_mask, gt_thr, gt_thr_mask = ocr_dataset[14]\n",
    "\n",
    "fig, ax = plt.subplots(1, 5, figsize=(24, 6))\n",
    "ax[0].imshow(image[0])\n",
    "ax[1].imshow(gt_shr)\n",
    "ax[2].imshow(gt_shr_mask)\n",
    "ax[3].imshow(gt_thr)\n",
    "ax[4].imshow(gt_thr_mask)"
   ]
  },
  {
   "cell_type": "code",
   "execution_count": 2,
   "metadata": {},
   "outputs": [],
   "source": [
    "import torch\n",
    "from torch import Tensor\n",
    "\n",
    "from model.dbnet import DBNet\n",
    "from model.loss import DBLoss\n",
    "\n",
    "model = DBNet(\n",
    "        inner_channels=128,\n",
    "        out_channels=64,\n",
    "        head_in_channels=320,\n",
    "        test=True,\n",
    "    )\n",
    "\n",
    "model.load_state_dict(torch.load('model_weights.v9.mbv3s.final.pth'), strict=False)\n",
    "# model.cpu()\n",
    "model.eval()\n",
    "\n",
    "idx = 0"
   ]
  },
  {
   "cell_type": "code",
   "execution_count": null,
   "metadata": {},
   "outputs": [],
   "source": [
    "# image, gt_shr, gt_shr_mask, gt_thr, gt_thr_mask = ocr_dataset[idx]\n",
    "image = ocr_dataset[idx]\n",
    "# image = ocr_dataset[54]\n",
    "image = image[None,]\n",
    "\n",
    "x = model(image)\n",
    "print(idx)\n",
    "\n",
    "fig, ax = plt.subplots(2, 4, figsize=(24, 10))\n",
    "ax[0, 0].imshow(image[0, 0].detach().numpy())\n",
    "# ax[0, 1].imshow(x[0, 0].detach().numpy())\n",
    "# ax[0, 2].imshow(x[0, 1].detach().numpy())\n",
    "# ax[0, 3].imshow(x[0, 2].detach().numpy())\n",
    "ax[0, 1].imshow(x[0, 1].detach().numpy())\n",
    "ax[0, 2].imshow(x[0, 2].detach().numpy())\n",
    "ax[0, 3].imshow(x[0, 3].detach().numpy())\n",
    "ax[1, 0].imshow(x[0, 4].detach().numpy())\n",
    "ax[1, 1].imshow(x[0, 5].detach().numpy())\n",
    "ax[1, 2].imshow(x[0, 6].detach().numpy())\n",
    "ax[1, 3].imshow(x[0, 7].detach().numpy())\n",
    "# ax[1, 0].imshow(gt_shr.detach().numpy())\n",
    "# ax[1, 1].imshow(gt_shr.detach().numpy() == 5)\n",
    "# ax[1, 2].imshow(gt_shr.detach().numpy() == 6)\n",
    "# ax[1, 3].imshow(gt_shr.detach().numpy() == 7)\n",
    "\n",
    "idx += 1"
   ]
  },
  {
   "cell_type": "code",
   "execution_count": null,
   "metadata": {},
   "outputs": [],
   "source": [
    "# image, gt_shr, gt_shr_mask, gt_thr, gt_thr_mask = ocr_dataset[idx]\n",
    "image = ocr_dataset[idx]\n",
    "# image = Tensor(image[None, None, :, :])\n",
    "image = image[None,]\n",
    "\n",
    "x = model(image)\n",
    "\n",
    "fig, ax = plt.subplots(2, 4, figsize=(24, 10))\n",
    "ax[0, 0].imshow(image[0, 0].detach().numpy())\n",
    "# ax[0, 1].imshow(x[0, 0].detach().numpy())\n",
    "# ax[0, 2].imshow(x[0, 3].detach().numpy())\n",
    "ax[0, 1].imshow(x[0, 4].detach().numpy())\n",
    "ax[0, 2].imshow(x[0, 5].detach().numpy())\n",
    "ax[0, 3].imshow(x[0, 6].detach().numpy())\n",
    "ax[1, 0].imshow(x[0, 7].detach().numpy())\n",
    "ax[1, 1].imshow(x[0, 8].detach().numpy())\n",
    "ax[1, 2].imshow(x[0, 9].detach().numpy())\n",
    "ax[1, 3].imshow(x[0, 10].detach().numpy())\n",
    "\n",
    "idx += 1"
   ]
  },
  {
   "cell_type": "code",
   "execution_count": 3,
   "metadata": {},
   "outputs": [
    {
     "data": {
      "text/plain": [
       "NeuralNetwork(\n",
       "  (conv_stack): Sequential(\n",
       "    (0): Conv2d(1, 64, kernel_size=(3, 3), stride=(1, 1))\n",
       "    (1): BatchNorm2d(64, eps=1e-05, momentum=0.1, affine=True, track_running_stats=True)\n",
       "    (2): ReLU(inplace=True)\n",
       "    (3): Conv2d(64, 128, kernel_size=(3, 3), stride=(1, 1))\n",
       "    (4): BatchNorm2d(128, eps=1e-05, momentum=0.1, affine=True, track_running_stats=True)\n",
       "    (5): ReLU(inplace=True)\n",
       "    (6): Conv2d(128, 256, kernel_size=(2, 2), stride=(2, 2))\n",
       "    (7): Conv2d(256, 256, kernel_size=(2, 2), stride=(1, 1))\n",
       "    (8): BatchNorm2d(256, eps=1e-05, momentum=0.1, affine=True, track_running_stats=True)\n",
       "    (9): AdaptiveAvgPool2d(output_size=(1, 1))\n",
       "  )\n",
       "  (fc): Conv2d(256, 512, kernel_size=(1, 1), stride=(1, 1))\n",
       "  (fc1): Conv2d(512, 62, kernel_size=(1, 1), stride=(1, 1))\n",
       ")"
      ]
     },
     "execution_count": 3,
     "metadata": {},
     "output_type": "execute_result"
    }
   ],
   "source": [
    "import torch\n",
    "from torch import nn\n",
    "\n",
    "from emnist import NeuralNetwork\n",
    "\n",
    "char_model = NeuralNetwork()\n",
    "char_model.load_state_dict(torch.load(\"model_weights.emnist.pth\"))\n",
    "char_model.eval()"
   ]
  },
  {
   "cell_type": "code",
   "execution_count": 4,
   "metadata": {},
   "outputs": [],
   "source": [
    "eminst_class = ['0', '1', '2', '3', '4', '5', '6', '7', '8', '9', 'A', 'B', 'C', 'D', 'E', 'F', 'G', 'H', 'I', 'J', 'K', 'L', 'M', 'N', 'O', 'P', 'Q', 'R', 'S', 'T', 'U', 'V', 'W', 'X', 'Y', 'Z', 'a', 'b', 'c', 'd', 'e', 'f', 'g', 'h', 'i', 'j', 'k', 'l', 'm', 'n', 'o', 'p', 'q', 'r', 's', 't', 'u', 'v', 'w', 'x', 'y', 'z']\n",
    "convT2d = torch.nn.ConvTranspose2d(320, 320, 2, 2)"
   ]
  },
  {
   "cell_type": "code",
   "execution_count": 324,
   "metadata": {},
   "outputs": [],
   "source": [
    "import cv2\n",
    "from shapely.geometry import Polygon\n",
    "import numpy as np\n",
    "\n",
    "from math import ceil\n",
    "\n",
    "\n",
    "\n",
    "def sqrt_einsum(a, b):\n",
    "    a_min_b = a - b\n",
    "    return np.sqrt(np.einsum(\"i,i->\", a_min_b, a_min_b))\n",
    "\n",
    "def cal_avg_dist(contours):\n",
    "    _length = []\n",
    "    limit = 0\n",
    "    for _polygon in contours:\n",
    "        limit += 1\n",
    "        if limit == 30:\n",
    "            break\n",
    "        _length.append(sqrt_einsum(_polygon.max(axis=0)[0], _polygon.min(axis=0)[0]))\n",
    "    _length = np.array(_length, dtype=np.float16)\n",
    "    return _length.mean()\n",
    "\n",
    "# def chk_pair(dist_arr):\n",
    "#     _, _dist_arr = np.where(dist_arr == 1)\n",
    "#     if np.all(dist_arr.sum(axis=1) == 2):\n",
    "#         return _dist_arr.reshape(-1, 2).astype(int)\n",
    "#     else:\n",
    "#         plt.imshow(dist_arr)\n",
    "#         raise ValueError"
   ]
  },
  {
   "cell_type": "code",
   "execution_count": 325,
   "metadata": {},
   "outputs": [],
   "source": [
    "image = ocr_dataset[54]\n",
    "# image, gt_shr, gt_shr_mask, gt_thr, gt_thr_mask = ocr_dataset[2]\n",
    "image = image[None,]\n",
    "\n",
    "neck_out = model.neck(image)\n",
    "out = model.head(neck_out)\n",
    "out = out.detach().cpu().numpy()\n",
    "\n",
    "x = model.head.categorize[:-2](neck_out)\n",
    "x = convT2d(x)\n",
    "x = x.detach().numpy()\n",
    "\n",
    "# idx = 0"
   ]
  },
  {
   "cell_type": "code",
   "execution_count": 414,
   "metadata": {},
   "outputs": [],
   "source": [
    "def get_pair(array1, array2):\n",
    "    _dist = np.abs(array1[None, :, :] - array2[:, None, :]).max(axis=2)\n",
    "    return _dist.min(axis=0).argsort()[:2]\n",
    "\n",
    "def _buffered_polygon_coords(polygon):\n",
    "    if not isinstance(polygon, Polygon):\n",
    "        polygon = Polygon(polygon)\n",
    "    area = polygon.area\n",
    "    peri = polygon.length\n",
    "    buffer_polygon = polygon.buffer(distance=2, cap_style=2, join_style=2)\n",
    "    return np.array(buffer_polygon.exterior.coords)\n",
    "\n",
    "def extreme_points(contour):\n",
    "    extreme_left = tuple(contour[contour[:, :, 0].argmin()][0])\n",
    "    extreme_right = tuple(contour[contour[:, :, 0].argmax()][0])\n",
    "    extreme_top = tuple(contour[contour[:, :, 1].argmin()][0])\n",
    "    extreme_bottom = tuple(contour[contour[:, :, 1].argmax()][0])\n",
    "    return extreme_left, extreme_right, extreme_top, extreme_bottom\n",
    "\n",
    "def get_min_max_polygon(_polygon):\n",
    "    max_x, max_y = _polygon.max(axis=0)[0]\n",
    "    min_x, min_y = _polygon.min(axis=0)[0]\n",
    "    _max = [ceil(max_x)+1, ceil(max_y)+1]\n",
    "    _min = [int(min_x)-1, int(min_y)]\n",
    "    return [_max, _min]\n"
   ]
  },
  {
   "cell_type": "code",
   "execution_count": 443,
   "metadata": {},
   "outputs": [],
   "source": [
    "def denormalize(x, mean=[0.5], std=[0.22]):\n",
    "    # 3, H, W, B\n",
    "    ten = x.clone()\n",
    "    for t, m, s in zip(ten, mean, std):\n",
    "        t.mul_(s).add_(m)\n",
    "    # B, 3, H, W\n",
    "    return torch.clamp(ten, 0, 1).detach().numpy()\n",
    "\n",
    "\n",
    "def predict_atom_character(char_pos, img_size: tuple = (14, 14)):\n",
    "\n",
    "    import torch.nn.functional as F\n",
    "\n",
    "    pred_char_list = []\n",
    "    pred_img_char_list = []\n",
    "\n",
    "    for i in char_pos:\n",
    "        _max, _min = i\n",
    "        _image = image[:, :, _min[1]:_max[1], _min[0]:_max[0]]\n",
    "        _image = F.pad(_image, (3,3,3,3), value=2.2727)\n",
    "        _image = F.interpolate(_image, size=img_size, mode=\"bilinear\")\n",
    "        pred = eminst_class[char_model(_image).argmax()]\n",
    "        if pred in ['0', 'Q']:\n",
    "            pred = 'O'\n",
    "        elif pred in ['A']:\n",
    "            pred = 'H'\n",
    "    \n",
    "        pred_char_list.append(pred)\n",
    "        pred_img_char_list.append(denormalize(_image[0, 0]))\n",
    "\n",
    "    return pred_char_list, pred_img_char_list\n",
    "\n",
    "\n",
    "def chunk_char(array, cutoff):\n",
    "    _dist_arr = np.abs(array[None, :, :] - array[:, None, :]).max(axis=2)\n",
    "    _dist_arr[np.triu_indices(_dist_arr.shape[0])] = 999\n",
    "    _dist = np.where(_dist_arr < cutoff * 1.2)\n",
    "    _dist = np.stack(_dist, axis=1)\n",
    "    return _dist\n",
    "\n",
    "def get_mol_conn_info(out):\n",
    "\n",
    "    contours = {}\n",
    "    char_pos = []\n",
    "    for idx in range(1, 3):\n",
    "        _contours, _ = cv2.findContours(255*np.array(out[0][idx] > 0.2, dtype=np.uint8), cv2.RETR_LIST, cv2.CHAIN_APPROX_SIMPLE)\n",
    "        _ctrs = []\n",
    "        if _contours.__len__() == 0:\n",
    "            contours[idx] = None\n",
    "            continue\n",
    "        for _polygon in _contours:\n",
    "            if _polygon.shape.__len__() > 1:\n",
    "                rect = cv2.minAreaRect(_polygon)\n",
    "                (x, y), (w, h), ang = rect\n",
    "                if w * h > 9:\n",
    "                    box = cv2.boxPoints(rect)\n",
    "                    _ctrs.append([x, y])\n",
    "                    if idx == 2:\n",
    "                        char_pos.append(get_min_max_polygon(_polygon))\n",
    "        contours[idx] = np.array(_ctrs, dtype=np.float16)\n",
    "\n",
    "    b_pair = {}\n",
    "    polygons = {}\n",
    "    avg_b_dist = 0\n",
    "    bond_length = []\n",
    "    for idx in range(3, 8):\n",
    "        _contours, _ = cv2.findContours(255*np.array(out[0][idx] > 0.2, dtype=np.uint8), cv2.RETR_EXTERNAL, cv2.CHAIN_APPROX_SIMPLE)\n",
    "        _ctrs = []\n",
    "        _poly = []\n",
    "        if _contours.__len__() == 0:\n",
    "        # contours[idx] = None\n",
    "            polygons[idx] = None\n",
    "            continue\n",
    "        for _polygon in _contours:\n",
    "        # _polygon = _polygon.squeeze()\n",
    "            if cv2.contourArea(_polygon) > 1:\n",
    "                rect = cv2.minAreaRect(_polygon)\n",
    "                (x, y), (w, h), ang = rect\n",
    "                if w * h > 9:\n",
    "                    box = cv2.boxPoints(rect)\n",
    "                    _ctrs.append([x, y])\n",
    "                    _poly.append(box)\n",
    "                    bond_length.append([w, h])\n",
    "\n",
    "    # contours[idx] = np.array(_ctrs, dtype=np.float16)\n",
    "        polygons[idx] = np.array(_poly, dtype=np.float16)\n",
    "\n",
    "    bond_avg_length = np.array(bond_length, dtype=np.float16).max(axis=1).mean()\n",
    "    chunked_char = chunk_char(contours[2], bond_avg_length)\n",
    "\n",
    "    heavy_atom = np.ones(contours[2].__len__(), dtype=np.uint8)\n",
    "\n",
    "    pred_char_list, pred_img_char_list = predict_atom_character(char_pos)\n",
    "\n",
    "    for i in chunked_char:\n",
    "        a = pred_char_list[i[0]]\n",
    "        b = pred_char_list[i[1]]\n",
    "        if a in ['H', '2']:\n",
    "            heavy_atom[i[0]] = 0\n",
    "        elif b in ['H', '2']:\n",
    "            heavy_atom[i[1]] = 0\n",
    "\n",
    "    contours[2] = contours[2][np.where(heavy_atom == 1)]\n",
    "    pred_heavy_char_list = np.array(pred_char_list)[np.where(heavy_atom == 1)]\n",
    "\n",
    "    pts = np.concatenate([contours[1], contours[2]], axis=0)\n",
    "\n",
    "    for idx in range(3, 8):\n",
    "        if polygons[idx] is not None:\n",
    "            b_pair[idx] = []\n",
    "            for _polygon in polygons[idx]:\n",
    "                b_pair[idx].append(get_pair(pts, _polygon))\n",
    "\n",
    "    return contours, b_pair, pred_heavy_char_list, pred_char_list, pred_img_char_list\n",
    "\n",
    "def get_mol(contours, pred_char_list, b_pair):\n",
    "\n",
    "    mol = Chem.RWMol()\n",
    "\n",
    "    a_idx = 0\n",
    "    for _ in contours[1]:\n",
    "        atom = Chem.Atom(6)\n",
    "        mol.AddAtom(atom)\n",
    "        a_idx += 0\n",
    "\n",
    "    for _ in pred_char_list:\n",
    "        atom = Chem.Atom(a_list[_])\n",
    "        mol.AddAtom(atom)\n",
    "        a_idx += 0\n",
    "\n",
    "    b_idx = 0\n",
    "    chiral_b_idx = {}\n",
    "    for idx in b_pair:\n",
    "        for i, j in b_pair[idx]:\n",
    "            i = int(i)\n",
    "            j = int(j)\n",
    "            mol.AddBond(i, j, order=b_type_list[idx])\n",
    "            if idx > 5:\n",
    "                _bond = mol.GetBondWithIdx(b_idx)\n",
    "                _bond.SetBondDir(b_dir_list[idx])\n",
    "                chiral_b_idx[b_idx] = [i, j]\n",
    "            b_idx += 1\n",
    "\n",
    "\n",
    "    conf = Chem.Conformer(mol.GetNumAtoms())\n",
    "    mol.AddConformer(conf)\n",
    "\n",
    "    Chem.SanitizeMol(mol)\n",
    "    # rdDepictor.Compute2DCoords(mol)\n",
    "    Chem.AssignChiralTypesFromBondDirs(mol)\n",
    "\n",
    "    if chiral_b_idx.__len__() != 0:\n",
    "        for _idx in chiral_b_idx:\n",
    "            _b = mol.GetBondWithIdx(_idx)\n",
    "            _bDir = _b.GetBondDir()\n",
    "            _aI = _b.GetBeginAtom()\n",
    "            _aJ = _b.GetEndAtom()\n",
    "            type_bool1 = _aI.GetChiralTag() == Chem.ChiralType.CHI_UNSPECIFIED\n",
    "            type_bool2 = _aJ.GetChiralTag() == Chem.ChiralType.CHI_UNSPECIFIED\n",
    "            if type_bool1 and type_bool2:\n",
    "                j, i = chiral_b_idx[_idx]\n",
    "                mol.RemoveBond(j, i)\n",
    "                mol.AddBond(i, j, order=Chem.BondType.SINGLE)\n",
    "                _b = mol.GetBondWithIdx(b_idx-1)\n",
    "                _b.SetBondDir(_bDir)\n",
    "\n",
    "    Chem.AssignChiralTypesFromBondDirs(mol)\n",
    "\n",
    "    # Chem.DetectBondStereochemistry(mol)\n",
    "    # Chem.AssignAtomChiralTagsFromStructure(mol)\n",
    "    # Chem.AssignStereochemistry(mol)\n",
    "\n",
    "    Chem.SanitizeMol(mol)\n",
    "    smi = Chem.MolToSmiles(mol)\n",
    "    mol = Chem.MolFromSmiles(smi)\n",
    "    return mol"
   ]
  },
  {
   "cell_type": "code",
   "execution_count": 67,
   "metadata": {},
   "outputs": [],
   "source": [
    "from PIL import Image\n",
    "from datetime import datetime\n",
    "\n",
    "def save_image(img, pred, idx):\n",
    "    now = datetime.now()\n",
    "    cur_time_str = now.strftime(\"%d%m%Y_%H%M%S\")\n",
    "\n",
    "    img = np.array(img*255, dtype=np.uint8)\n",
    "    pil_image = Image.fromarray(img)\n",
    "    pil_image.save(f\"tmp_img/{cur_time_str}_{idx}_{pred}.png\")\n"
   ]
  },
  {
   "cell_type": "code",
   "execution_count": 175,
   "metadata": {},
   "outputs": [],
   "source": [
    "_idx = 9"
   ]
  },
  {
   "cell_type": "code",
   "execution_count": 451,
   "metadata": {},
   "outputs": [
    {
     "ename": "KeyError",
     "evalue": "'a'",
     "output_type": "error",
     "traceback": [
      "\u001b[0;31m---------------------------------------------------------------------------\u001b[0m",
      "\u001b[0;31mKeyError\u001b[0m                                  Traceback (most recent call last)",
      "\u001b[1;32m/home/doodleduck/Project/chemOCR/test.ipynb Cell 14\u001b[0m in \u001b[0;36m<cell line: 16>\u001b[0;34m()\u001b[0m\n\u001b[1;32m     <a href='vscode-notebook-cell:/home/doodleduck/Project/chemOCR/test.ipynb#X13sZmlsZQ%3D%3D?line=11'>12</a>\u001b[0m     save_image(img, pred_char_list[idx], idx)\n\u001b[1;32m     <a href='vscode-notebook-cell:/home/doodleduck/Project/chemOCR/test.ipynb#X13sZmlsZQ%3D%3D?line=13'>14</a>\u001b[0m _idx \u001b[39m+\u001b[39m\u001b[39m=\u001b[39m \u001b[39m1\u001b[39m\n\u001b[0;32m---> <a href='vscode-notebook-cell:/home/doodleduck/Project/chemOCR/test.ipynb#X13sZmlsZQ%3D%3D?line=15'>16</a>\u001b[0m get_mol(contours, pred_heavy_char_list, b_pair)\n",
      "\u001b[1;32m/home/doodleduck/Project/chemOCR/test.ipynb Cell 14\u001b[0m in \u001b[0;36mget_mol\u001b[0;34m(contours, pred_char_list, b_pair)\u001b[0m\n\u001b[1;32m    <a href='vscode-notebook-cell:/home/doodleduck/Project/chemOCR/test.ipynb#X13sZmlsZQ%3D%3D?line=123'>124</a>\u001b[0m     a_idx \u001b[39m+\u001b[39m\u001b[39m=\u001b[39m \u001b[39m0\u001b[39m\n\u001b[1;32m    <a href='vscode-notebook-cell:/home/doodleduck/Project/chemOCR/test.ipynb#X13sZmlsZQ%3D%3D?line=125'>126</a>\u001b[0m \u001b[39mfor\u001b[39;00m _ \u001b[39min\u001b[39;00m pred_char_list:\n\u001b[0;32m--> <a href='vscode-notebook-cell:/home/doodleduck/Project/chemOCR/test.ipynb#X13sZmlsZQ%3D%3D?line=126'>127</a>\u001b[0m     atom \u001b[39m=\u001b[39m Chem\u001b[39m.\u001b[39mAtom(a_list[_])\n\u001b[1;32m    <a href='vscode-notebook-cell:/home/doodleduck/Project/chemOCR/test.ipynb#X13sZmlsZQ%3D%3D?line=127'>128</a>\u001b[0m     mol\u001b[39m.\u001b[39mAddAtom(atom)\n\u001b[1;32m    <a href='vscode-notebook-cell:/home/doodleduck/Project/chemOCR/test.ipynb#X13sZmlsZQ%3D%3D?line=128'>129</a>\u001b[0m     a_idx \u001b[39m+\u001b[39m\u001b[39m=\u001b[39m \u001b[39m0\u001b[39m\n",
      "\u001b[0;31mKeyError\u001b[0m: 'a'"
     ]
    }
   ],
   "source": [
    "image = ocr_dataset[_idx]\n",
    "# image, gt_shr, gt_shr_mask, gt_thr, gt_thr_mask = ocr_dataset[2]\n",
    "image = image[None,]\n",
    "\n",
    "neck_out = model.neck(image)\n",
    "out = model.head(neck_out)\n",
    "out = out.detach().cpu().numpy()\n",
    "\n",
    "contours, b_pair, pred_heavy_char_list, pred_char_list, pred_img_char_list = get_mol_conn_info(out)\n",
    "\n",
    "for idx, img in enumerate(pred_img_char_list):\n",
    "    save_image(img, pred_char_list[idx], idx)\n",
    "\n",
    "_idx += 1\n",
    "\n",
    "get_mol(contours, pred_heavy_char_list, b_pair)"
   ]
  },
  {
   "cell_type": "code",
   "execution_count": 174,
   "metadata": {},
   "outputs": [],
   "source": [
    "# pred_char_list\n",
    "for idx, img in enumerate(pred_img_char_list):\n",
    "    save_image(img, pred_char_list[idx], idx)"
   ]
  },
  {
   "cell_type": "code",
   "execution_count": 170,
   "metadata": {},
   "outputs": [
    {
     "name": "stdout",
     "output_type": "stream",
     "text": [
      "90.0\n",
      "63.0\n",
      "63.0\n",
      "70.0\n",
      "63.0\n",
      "63.0\n",
      "81.0\n"
     ]
    }
   ],
   "source": [
    "for _polygon in _contours:\n",
    "    if _polygon.shape.__len__() > 1:\n",
    "        rect = cv2.minAreaRect(_polygon)\n",
    "        (x, y), (w, h), ang = rect\n",
    "        print(w*h)"
   ]
  },
  {
   "cell_type": "code",
   "execution_count": 452,
   "metadata": {},
   "outputs": [
    {
     "data": {
      "text/plain": [
       "<matplotlib.image.AxesImage at 0x7f71c1d11d80>"
      ]
     },
     "execution_count": 452,
     "metadata": {},
     "output_type": "execute_result"
    },
    {
     "data": {
      "image/png": "[encoded data removed]",
      "text/plain": [
       "<Figure size 900x600 with 1 Axes>"
      ]
     },
     "metadata": {
      "needs_background": "light"
     },
     "output_type": "display_data"
    }
   ],
   "source": [
    "fig, ax = plt.subplots(1, 1, dpi=150)\n",
    "img = image[0, 0].detach().numpy().copy()\n",
    "_contours, _ = cv2.findContours(255*np.array(out[0][2] > 0.2, dtype=np.uint8), cv2.RETR_LIST, cv2.CHAIN_APPROX_SIMPLE)\n",
    "tmp_contours = []\n",
    "for _polygon in _contours:\n",
    "    if _polygon.shape.__len__() > 1:\n",
    "        rect = cv2.minAreaRect(_polygon)\n",
    "        (x, y), (w, h), ang = rect\n",
    "        if w * h > 9:\n",
    "            tmp_contours.append(_polygon)\n",
    "ax.imshow(cv2.drawContours(img, tmp_contours, -1, (5), 1))"
   ]
  },
  {
   "cell_type": "code",
   "execution_count": 450,
   "metadata": {},
   "outputs": [
    {
     "data": {
      "image/png": "[encoded data removed]",
      "text/plain": [
       "<Figure size 1728x720 with 8 Axes>"
      ]
     },
     "metadata": {
      "needs_background": "light"
     },
     "output_type": "display_data"
    }
   ],
   "source": [
    "fig, ax = plt.subplots(2, 4, figsize=(24, 10))\n",
    "ax[0, 0].imshow(image[0, 0].detach().numpy())\n",
    "# ax[0, 1].imshow(x[0, 0].detach().numpy())\n",
    "# ax[0, 2].imshow(x[0, 3].detach().numpy())\n",
    "ax[0, 1].imshow(out[0, 1])\n",
    "ax[0, 2].imshow(out[0, 2])\n",
    "ax[0, 3].imshow(out[0, 3])\n",
    "ax[1, 0].imshow(out[0, 4])\n",
    "ax[1, 1].imshow(out[0, 5])\n",
    "ax[1, 2].imshow(out[0, 6])\n",
    "ax[1, 3].imshow(out[0, 7])\n",
    "\n",
    "idx += 1"
   ]
  },
  {
   "cell_type": "code",
   "execution_count": 9,
   "metadata": {},
   "outputs": [],
   "source": [
    "import rdkit\n",
    "from rdkit import Chem, rdBase\n",
    "from rdkit.Chem.Draw import IPythonConsole\n",
    "from rdkit.Chem import rdDistGeom, rdDepictor, rdCoordGen\n",
    "\n",
    "IPythonConsole.drawOptions.addAtomIndices = False"
   ]
  },
  {
   "cell_type": "code",
   "execution_count": 382,
   "metadata": {},
   "outputs": [
    {
     "name": "stderr",
     "output_type": "stream",
     "text": [
      "[22:50:28] Explicit valence for atom # 23 H, 2, is greater than permitted\n"
     ]
    },
    {
     "ename": "AtomValenceException",
     "evalue": "Explicit valence for atom # 23 H, 2, is greater than permitted",
     "output_type": "error",
     "traceback": [
      "\u001b[0;31m---------------------------------------------------------------------------\u001b[0m",
      "\u001b[0;31mAtomValenceException\u001b[0m                      Traceback (most recent call last)",
      "\u001b[1;32m/home/doodleduck/Project/chemOCR/test.ipynb Cell 20\u001b[0m in \u001b[0;36m<cell line: 55>\u001b[0;34m()\u001b[0m\n\u001b[1;32m     <a href='vscode-notebook-cell:/home/doodleduck/Project/chemOCR/test.ipynb#X15sZmlsZQ%3D%3D?line=51'>52</a>\u001b[0m mol\u001b[39m.\u001b[39mAddConformer(conf)\n\u001b[1;32m     <a href='vscode-notebook-cell:/home/doodleduck/Project/chemOCR/test.ipynb#X15sZmlsZQ%3D%3D?line=53'>54</a>\u001b[0m rdDepictor\u001b[39m.\u001b[39mCompute2DCoords(mol)\n\u001b[0;32m---> <a href='vscode-notebook-cell:/home/doodleduck/Project/chemOCR/test.ipynb#X15sZmlsZQ%3D%3D?line=54'>55</a>\u001b[0m Chem\u001b[39m.\u001b[39;49mSanitizeMol(mol)\n\u001b[1;32m     <a href='vscode-notebook-cell:/home/doodleduck/Project/chemOCR/test.ipynb#X15sZmlsZQ%3D%3D?line=55'>56</a>\u001b[0m Chem\u001b[39m.\u001b[39mAssignChiralTypesFromBondDirs(mol)\n\u001b[1;32m     <a href='vscode-notebook-cell:/home/doodleduck/Project/chemOCR/test.ipynb#X15sZmlsZQ%3D%3D?line=57'>58</a>\u001b[0m \u001b[39mif\u001b[39;00m chiral_b_idx\u001b[39m.\u001b[39m\u001b[39m__len__\u001b[39m() \u001b[39m!=\u001b[39m \u001b[39m0\u001b[39m:\n",
      "\u001b[0;31mAtomValenceException\u001b[0m: Explicit valence for atom # 23 H, 2, is greater than permitted"
     ]
    }
   ],
   "source": [
    "b_type_list = {\n",
    "    3: Chem.BondType.SINGLE,\n",
    "    4: Chem.BondType.DOUBLE,\n",
    "    5: Chem.BondType.TRIPLE,\n",
    "    6: Chem.BondType.SINGLE,\n",
    "    7: Chem.BondType.SINGLE,\n",
    "}\n",
    "b_dir_list = {\n",
    "    6: Chem.BondDir.BEGINWEDGE,\n",
    "    7: Chem.BondDir.BEGINDASH,\n",
    "}\n",
    "\n",
    "a_list = {\n",
    "    'H': 1,\n",
    "    'C': 6,\n",
    "    'N': 7,\n",
    "    'O': 8,\n",
    "    'F': 9,\n",
    "    'E': 9,\n",
    "    'R': 9,\n",
    "    'S': 16,\n",
    "}\n",
    "\n",
    "mol = Chem.RWMol()\n",
    "\n",
    "a_idx = 0\n",
    "for _ in contours[1]:\n",
    "    atom = Chem.Atom(6)\n",
    "    mol.AddAtom(atom)\n",
    "    a_idx += 0\n",
    "\n",
    "for _ in pred_char_list:\n",
    "    atom = Chem.Atom(a_list[_])\n",
    "    mol.AddAtom(atom)\n",
    "    a_idx += 0\n",
    "\n",
    "b_idx = 0\n",
    "chiral_b_idx = {}\n",
    "for idx in b_pair:\n",
    "    for i, j in b_pair[idx]:\n",
    "        i = int(i)\n",
    "        j = int(j)\n",
    "        mol.AddBond(i, j, order=b_type_list[idx])\n",
    "        if idx > 5:\n",
    "            _bond = mol.GetBondWithIdx(b_idx)\n",
    "            _bond.SetBondDir(b_dir_list[idx])\n",
    "            chiral_b_idx[b_idx] = [i, j]\n",
    "        b_idx += 1\n",
    "\n",
    "\n",
    "conf = Chem.Conformer(mol.GetNumAtoms())\n",
    "mol.AddConformer(conf)\n",
    "\n",
    "rdDepictor.Compute2DCoords(mol)\n",
    "Chem.SanitizeMol(mol)\n",
    "Chem.AssignChiralTypesFromBondDirs(mol)\n",
    "\n",
    "if chiral_b_idx.__len__() != 0:\n",
    "    for _idx in chiral_b_idx:\n",
    "        _b = mol.GetBondWithIdx(_idx)\n",
    "        _bDir = _b.GetBondDir()\n",
    "        _aI = _b.GetBeginAtom()\n",
    "        _aJ = _b.GetEndAtom()\n",
    "        type_bool1 = _aI.GetChiralTag() == Chem.ChiralType.CHI_UNSPECIFIED\n",
    "        type_bool2 = _aJ.GetChiralTag() == Chem.ChiralType.CHI_UNSPECIFIED\n",
    "        if type_bool1 and type_bool2:\n",
    "            j, i = chiral_b_idx[_idx]\n",
    "            mol.RemoveBond(j, i)\n",
    "            mol.AddBond(i, j, order=Chem.BondType.SINGLE)\n",
    "            _b = mol.GetBondWithIdx(b_idx-1)\n",
    "            _b.SetBondDir(_bDir)\n",
    "\n",
    "Chem.AssignChiralTypesFromBondDirs(mol)\n",
    "\n",
    "# Chem.DetectBondStereochemistry(mol)\n",
    "# Chem.AssignAtomChiralTagsFromStructure(mol)\n",
    "# Chem.AssignStereochemistry(mol)\n",
    "\n",
    "Chem.SanitizeMol(mol)\n",
    "smi = Chem.MolToSmiles(mol)\n",
    "mol = Chem.MolFromSmiles(smi)"
   ]
  },
  {
   "cell_type": "code",
   "execution_count": null,
   "metadata": {},
   "outputs": [],
   "source": [
    "plt.imshow(image[0, 0].detach().numpy())"
   ]
  },
  {
   "cell_type": "code",
   "execution_count": 383,
   "metadata": {},
   "outputs": [
    {
     "data": {
      "image/png": "[encoded data removed]",
      "text/plain": [
       "<rdkit.Chem.rdchem.RWMol at 0x7f71e01e5da0>"
      ]
     },
     "execution_count": 383,
     "metadata": {},
     "output_type": "execute_result"
    }
   ],
   "source": [
    "mol"
   ]
  },
  {
   "cell_type": "code",
   "execution_count": null,
   "metadata": {},
   "outputs": [],
   "source": [
    "cgparams = rdCoordGen.CoordGenParams()\n",
    "cgparams.minimizerPrecision = cgparams.sketcherBestPrecision\n",
    "rdCoordGen.AddCoords(mol, cgparams)\n",
    "mol"
   ]
  },
  {
   "cell_type": "code",
   "execution_count": null,
   "metadata": {},
   "outputs": [],
   "source": [
    "type(b_pair[3][0][0])"
   ]
  },
  {
   "cell_type": "code",
   "execution_count": null,
   "metadata": {},
   "outputs": [],
   "source": [
    "fig, ax = plt.subplots(2, 4, figsize=(24, 10))\n",
    "ax[0, 0].imshow(image[0, 0].detach().numpy())\n",
    "ax[0, 1].imshow(out[0, 1])\n",
    "ax[0, 2].imshow(out[0, 2])\n",
    "ax[0, 3].imshow(out[0, 3])\n",
    "ax[1, 0].imshow(out[0, 4])\n",
    "ax[1, 1].imshow(out[0, 5])\n",
    "ax[1, 2].imshow(out[0, 6])\n",
    "ax[1, 3].imshow(out[0, 7])"
   ]
  },
  {
   "cell_type": "code",
   "execution_count": null,
   "metadata": {},
   "outputs": [],
   "source": [
    "# for i in contours[1]: plt.scatter(i[0], i[1], s=4200, c='none', edgecolors='k', alpha=0.2)\n",
    "k = 0\n",
    "for i in contours[1]: plt.scatter(i[0], i[1], c='k', alpha=0.5)\n",
    "for i in contours[1]: plt.text(i[0], i[1], k); k += 1\n",
    "k = 0\n",
    "# for i in contours[2]: plt.scatter(i[0], i[1], s=4200, c='none', edgecolors='b', alpha=0.2)\n",
    "for i in contours[2]: plt.scatter(i[0], i[1], c='b', alpha=0.5)\n",
    "for i in contours[2]: plt.text(i[0], i[1], k); k += 1\n",
    "k = 0\n",
    "for i in contours[6]: plt.scatter(i[0], i[1], c='gray', alpha=0.5)\n",
    "for i in contours[6]: plt.text(i[0], i[1], k, c='gray'); k += 1"
   ]
  },
  {
   "cell_type": "code",
   "execution_count": null,
   "metadata": {},
   "outputs": [],
   "source": []
  },
  {
   "cell_type": "code",
   "execution_count": null,
   "metadata": {},
   "outputs": [],
   "source": []
  }
 ],
 "metadata": {
  "kernelspec": {
   "display_name": "Python 3.10.5 ('rdkit310')",
   "language": "python",
   "name": "python3"
  },
  "language_info": {
   "codemirror_mode": {
    "name": "ipython",
    "version": 3
   },
   "file_extension": ".py",
   "mimetype": "text/x-python",
   "name": "python",
   "nbconvert_exporter": "python",
   "pygments_lexer": "ipython3",
   "version": "3.10.5"
  },
  "orig_nbformat": 4,
  "vscode": {
   "interpreter": {
    "hash": "245b9d6615daa1a3827d07c8eb27e2623b2ed10fac89f2a0a36a803424ad4263"
   }
  }
 },
 "nbformat": 4,
 "nbformat_minor": 2
}
